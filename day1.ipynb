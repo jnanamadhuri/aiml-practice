{
 "cells": [
  {
   "cell_type": "code",
   "execution_count": 1,
   "id": "5a74aac2-6fde-4546-b560-61a4ba926655",
   "metadata": {},
   "outputs": [
    {
     "name": "stdout",
     "output_type": "stream",
     "text": [
      "hello world\n"
     ]
    }
   ],
   "source": [
    "print(\"hello world\")"
   ]
  },
  {
   "cell_type": "code",
   "execution_count": 2,
   "id": "c7a99613-154a-490e-bfc2-b83e66d78de9",
   "metadata": {},
   "outputs": [
    {
     "data": {
      "text/plain": [
       "'EdurekaPython'"
      ]
     },
     "execution_count": 2,
     "metadata": {},
     "output_type": "execute_result"
    }
   ],
   "source": [
    "\"Edureka\"+\"Python\""
   ]
  },
  {
   "cell_type": "code",
   "execution_count": 4,
   "id": "3340d897-8b78-489b-865b-0c45319dcf9f",
   "metadata": {},
   "outputs": [
    {
     "data": {
      "text/plain": [
       "'EdurekaPython'"
      ]
     },
     "execution_count": 4,
     "metadata": {},
     "output_type": "execute_result"
    }
   ],
   "source": [
    "str1=\"Edureka\"\n",
    "str2=\"Python\"\n",
    "str1+str2"
   ]
  },
  {
   "cell_type": "code",
   "execution_count": 5,
   "id": "6a223595-efb7-46b6-971e-bf2372efab0c",
   "metadata": {},
   "outputs": [
    {
     "data": {
      "text/plain": [
       "'PYTHONPYTHONPYTHON'"
      ]
     },
     "execution_count": 5,
     "metadata": {},
     "output_type": "execute_result"
    }
   ],
   "source": [
    "'PYTHON'*3"
   ]
  },
  {
   "cell_type": "code",
   "execution_count": 6,
   "id": "f8150060-b120-4b44-ad17-78857475c9ec",
   "metadata": {},
   "outputs": [
    {
     "data": {
      "text/plain": [
       "'EdurekaPython'"
      ]
     },
     "execution_count": 6,
     "metadata": {},
     "output_type": "execute_result"
    }
   ],
   "source": [
    "str1='Edureka'\n",
    "str2=\"Python\"\n",
    "str1+str2"
   ]
  },
  {
   "cell_type": "code",
   "execution_count": 8,
   "id": "0589adae-5bab-4006-8c59-a146efd14a9e",
   "metadata": {},
   "outputs": [
    {
     "data": {
      "text/plain": [
       "'ureka'"
      ]
     },
     "execution_count": 8,
     "metadata": {},
     "output_type": "execute_result"
    }
   ],
   "source": [
    "\"Edureka\"[2:7]"
   ]
  },
  {
   "cell_type": "code",
   "execution_count": 9,
   "id": "4421f7be-44de-4024-9d5a-7cedebcbd259",
   "metadata": {},
   "outputs": [
    {
     "data": {
      "text/plain": [
       "'a'"
      ]
     },
     "execution_count": 9,
     "metadata": {},
     "output_type": "execute_result"
    }
   ],
   "source": [
    "'Edureka'[-1]"
   ]
  },
  {
   "cell_type": "code",
   "execution_count": 10,
   "id": "aad45579-7c4e-49f0-8a69-e3f4cf7a6948",
   "metadata": {},
   "outputs": [
    {
     "data": {
      "text/plain": [
       "'Edureka'"
      ]
     },
     "execution_count": 10,
     "metadata": {},
     "output_type": "execute_result"
    }
   ],
   "source": [
    "str1"
   ]
  },
  {
   "cell_type": "code",
   "execution_count": 11,
   "id": "a2b6f593-3c5b-48de-801f-a4152577242c",
   "metadata": {},
   "outputs": [
    {
     "data": {
      "text/plain": [
       "'ureka'"
      ]
     },
     "execution_count": 11,
     "metadata": {},
     "output_type": "execute_result"
    }
   ],
   "source": [
    "str1.replace('Ed','')"
   ]
  },
  {
   "cell_type": "code",
   "execution_count": 12,
   "id": "c8ba9d6d-ee75-4a9e-a6f0-45ae14ee035f",
   "metadata": {},
   "outputs": [
    {
     "data": {
      "text/plain": [
       "'ureka'"
      ]
     },
     "execution_count": 12,
     "metadata": {},
     "output_type": "execute_result"
    }
   ],
   "source": [
    "str1[2:7]"
   ]
  },
  {
   "cell_type": "code",
   "execution_count": 13,
   "id": "771e8d54-081f-48a4-b870-4fcc17318bfa",
   "metadata": {},
   "outputs": [
    {
     "data": {
      "text/plain": [
       "3"
      ]
     },
     "execution_count": 13,
     "metadata": {},
     "output_type": "execute_result"
    }
   ],
   "source": [
    "str1.find('reka')"
   ]
  },
  {
   "cell_type": "code",
   "execution_count": 14,
   "id": "44276d63-1464-44d4-a8ba-e2d230b060e1",
   "metadata": {},
   "outputs": [
    {
     "data": {
      "text/plain": [
       "['Edureka']"
      ]
     },
     "execution_count": 14,
     "metadata": {},
     "output_type": "execute_result"
    }
   ],
   "source": [
    "str1.split()"
   ]
  },
  {
   "cell_type": "code",
   "execution_count": 16,
   "id": "f741695b-d188-492b-aa87-c4c06f6be8b0",
   "metadata": {},
   "outputs": [
    {
     "data": {
      "text/plain": [
       "['python', 'tutorial']"
      ]
     },
     "execution_count": 16,
     "metadata": {},
     "output_type": "execute_result"
    }
   ],
   "source": [
    "str3=\"python,tutorial\"\n",
    "str3.split(',')"
   ]
  },
  {
   "cell_type": "code",
   "execution_count": 17,
   "id": "0ef5e7b3-52cf-48a9-a257-01a1399ab691",
   "metadata": {},
   "outputs": [
    {
     "name": "stdout",
     "output_type": "stream",
     "text": [
      "blue\n"
     ]
    }
   ],
   "source": [
    "dict={1:'blue',2:'green'}\n",
    "print(dict[1])"
   ]
  },
  {
   "cell_type": "code",
   "execution_count": 18,
   "id": "e1aed4df-48c2-4d29-8229-cfcb90a70c7c",
   "metadata": {},
   "outputs": [],
   "source": [
    "a={1,'dsa'}"
   ]
  },
  {
   "cell_type": "code",
   "execution_count": 19,
   "id": "43b53096-fcf5-43d4-b8ff-57a6a02c03f8",
   "metadata": {},
   "outputs": [
    {
     "name": "stdout",
     "output_type": "stream",
     "text": [
      "{1, 'dsa'}\n"
     ]
    }
   ],
   "source": [
    "print(a)\n"
   ]
  },
  {
   "cell_type": "code",
   "execution_count": 24,
   "id": "c6ecfeeb-1ef4-4266-b2e5-457cf0e5f752",
   "metadata": {},
   "outputs": [
    {
     "name": "stdin",
     "output_type": "stream",
     "text": [
      " 4\n"
     ]
    },
    {
     "name": "stdout",
     "output_type": "stream",
     "text": [
      "10\n"
     ]
    }
   ],
   "source": [
    "a=int(input())\n",
    "c=0\n",
    "while(a>0):\n",
    "    c=c+a\n",
    "    a=a-1\n",
    "print(c)"
   ]
  },
  {
   "cell_type": "code",
   "execution_count": null,
   "id": "0fe6cae6-0379-4160-a63f-5e424fac77dc",
   "metadata": {},
   "outputs": [],
   "source": []
  }
 ],
 "metadata": {
  "kernelspec": {
   "display_name": "Python 3 (ipykernel)",
   "language": "python",
   "name": "python3"
  },
  "language_info": {
   "codemirror_mode": {
    "name": "ipython",
    "version": 3
   },
   "file_extension": ".py",
   "mimetype": "text/x-python",
   "name": "python",
   "nbconvert_exporter": "python",
   "pygments_lexer": "ipython3",
   "version": "3.12.4"
  }
 },
 "nbformat": 4,
 "nbformat_minor": 5
}
