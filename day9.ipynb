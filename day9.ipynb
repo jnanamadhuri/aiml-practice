{
 "cells": [
  {
   "cell_type": "code",
   "execution_count": 3,
   "id": "5be6870b-5d3a-49a8-88cc-7e7dcafc4391",
   "metadata": {},
   "outputs": [],
   "source": [
    "import numpy as np\n",
    "import pandas as pd"
   ]
  },
  {
   "cell_type": "code",
   "execution_count": 5,
   "id": "9277dea5-4111-485f-a851-25f223f442e8",
   "metadata": {},
   "outputs": [],
   "source": [
    "from sklearn.impute import SimpleImputer\n",
    "from sklearn.preprocessing import OneHotEncoder\n",
    "from sklearn.preprocessing import OrdinalEncoder"
   ]
  },
  {
   "cell_type": "code",
   "execution_count": 13,
   "id": "dba696b4-6352-4cf4-b4ee-9f61d8af38ba",
   "metadata": {},
   "outputs": [
    {
     "data": {
      "text/html": [
       "<div>\n",
       "<style scoped>\n",
       "    .dataframe tbody tr th:only-of-type {\n",
       "        vertical-align: middle;\n",
       "    }\n",
       "\n",
       "    .dataframe tbody tr th {\n",
       "        vertical-align: top;\n",
       "    }\n",
       "\n",
       "    .dataframe thead th {\n",
       "        text-align: right;\n",
       "    }\n",
       "</style>\n",
       "<table border=\"1\" class=\"dataframe\">\n",
       "  <thead>\n",
       "    <tr style=\"text-align: right;\">\n",
       "      <th></th>\n",
       "      <th>age</th>\n",
       "      <th>gender</th>\n",
       "      <th>fever</th>\n",
       "      <th>cough</th>\n",
       "      <th>city</th>\n",
       "      <th>has_covid</th>\n",
       "    </tr>\n",
       "  </thead>\n",
       "  <tbody>\n",
       "    <tr>\n",
       "      <th>0</th>\n",
       "      <td>60</td>\n",
       "      <td>Male</td>\n",
       "      <td>103.0</td>\n",
       "      <td>Mild</td>\n",
       "      <td>Kolkata</td>\n",
       "      <td>No</td>\n",
       "    </tr>\n",
       "    <tr>\n",
       "      <th>1</th>\n",
       "      <td>27</td>\n",
       "      <td>Male</td>\n",
       "      <td>100.0</td>\n",
       "      <td>Mild</td>\n",
       "      <td>Delhi</td>\n",
       "      <td>Yes</td>\n",
       "    </tr>\n",
       "    <tr>\n",
       "      <th>2</th>\n",
       "      <td>42</td>\n",
       "      <td>Male</td>\n",
       "      <td>101.0</td>\n",
       "      <td>Mild</td>\n",
       "      <td>Delhi</td>\n",
       "      <td>No</td>\n",
       "    </tr>\n",
       "    <tr>\n",
       "      <th>3</th>\n",
       "      <td>31</td>\n",
       "      <td>Female</td>\n",
       "      <td>98.0</td>\n",
       "      <td>Mild</td>\n",
       "      <td>Kolkata</td>\n",
       "      <td>No</td>\n",
       "    </tr>\n",
       "    <tr>\n",
       "      <th>4</th>\n",
       "      <td>65</td>\n",
       "      <td>Female</td>\n",
       "      <td>101.0</td>\n",
       "      <td>Mild</td>\n",
       "      <td>Mumbai</td>\n",
       "      <td>No</td>\n",
       "    </tr>\n",
       "  </tbody>\n",
       "</table>\n",
       "</div>"
      ],
      "text/plain": [
       "   age  gender  fever cough     city has_covid\n",
       "0   60    Male  103.0  Mild  Kolkata        No\n",
       "1   27    Male  100.0  Mild    Delhi       Yes\n",
       "2   42    Male  101.0  Mild    Delhi        No\n",
       "3   31  Female   98.0  Mild  Kolkata        No\n",
       "4   65  Female  101.0  Mild   Mumbai        No"
      ]
     },
     "execution_count": 13,
     "metadata": {},
     "output_type": "execute_result"
    }
   ],
   "source": [
    "df=pd.read_csv('covid dataset.csv')\n",
    "df.head()"
   ]
  },
  {
   "cell_type": "code",
   "execution_count": 21,
   "id": "cf35f6b8-3a0c-418f-b230-9fa415fc9260",
   "metadata": {},
   "outputs": [
    {
     "data": {
      "text/plain": [
       "age           0\n",
       "gender        0\n",
       "fever        10\n",
       "cough         0\n",
       "city          0\n",
       "has_covid     0\n",
       "dtype: int64"
      ]
     },
     "execution_count": 21,
     "metadata": {},
     "output_type": "execute_result"
    }
   ],
   "source": [
    "df.isnull().sum()"
   ]
  },
  {
   "cell_type": "code",
   "execution_count": 25,
   "id": "0734d528-cca7-4d27-9572-468a28214157",
   "metadata": {},
   "outputs": [
    {
     "data": {
      "text/plain": [
       "city\n",
       "Kolkata      32\n",
       "Bangalore    30\n",
       "Delhi        22\n",
       "Mumbai       16\n",
       "Name: count, dtype: int64"
      ]
     },
     "execution_count": 25,
     "metadata": {},
     "output_type": "execute_result"
    }
   ],
   "source": [
    "df['city'].value_counts()"
   ]
  },
  {
   "cell_type": "code",
   "execution_count": 27,
   "id": "391897d3-f862-4af5-ad13-9718927e70fc",
   "metadata": {},
   "outputs": [
    {
     "data": {
      "text/plain": [
       "cough\n",
       "Mild      62\n",
       "Strong    38\n",
       "Name: count, dtype: int64"
      ]
     },
     "execution_count": 27,
     "metadata": {},
     "output_type": "execute_result"
    }
   ],
   "source": [
    "df['cough'].value_counts()"
   ]
  },
  {
   "cell_type": "code",
   "execution_count": 53,
   "id": "e68e9761-0f1c-4d41-902a-fd2641679f92",
   "metadata": {},
   "outputs": [],
   "source": [
    "from sklearn.model_selection import train_test_split\n",
    "xtr,xte,ytr,yte=train_test_split(df.drop(columns=['has_covid']),df['has_covid'],test_size=0.2)"
   ]
  },
  {
   "cell_type": "code",
   "execution_count": 55,
   "id": "f6b4e1c5-5af2-4248-ae7a-9510e0933e0b",
   "metadata": {},
   "outputs": [
    {
     "data": {
      "text/html": [
       "<div>\n",
       "<style scoped>\n",
       "    .dataframe tbody tr th:only-of-type {\n",
       "        vertical-align: middle;\n",
       "    }\n",
       "\n",
       "    .dataframe tbody tr th {\n",
       "        vertical-align: top;\n",
       "    }\n",
       "\n",
       "    .dataframe thead th {\n",
       "        text-align: right;\n",
       "    }\n",
       "</style>\n",
       "<table border=\"1\" class=\"dataframe\">\n",
       "  <thead>\n",
       "    <tr style=\"text-align: right;\">\n",
       "      <th></th>\n",
       "      <th>age</th>\n",
       "      <th>gender</th>\n",
       "      <th>fever</th>\n",
       "      <th>cough</th>\n",
       "      <th>city</th>\n",
       "    </tr>\n",
       "  </thead>\n",
       "  <tbody>\n",
       "    <tr>\n",
       "      <th>61</th>\n",
       "      <td>81</td>\n",
       "      <td>Female</td>\n",
       "      <td>98.0</td>\n",
       "      <td>Strong</td>\n",
       "      <td>Mumbai</td>\n",
       "    </tr>\n",
       "    <tr>\n",
       "      <th>13</th>\n",
       "      <td>64</td>\n",
       "      <td>Male</td>\n",
       "      <td>102.0</td>\n",
       "      <td>Mild</td>\n",
       "      <td>Bangalore</td>\n",
       "    </tr>\n",
       "    <tr>\n",
       "      <th>17</th>\n",
       "      <td>40</td>\n",
       "      <td>Female</td>\n",
       "      <td>98.0</td>\n",
       "      <td>Strong</td>\n",
       "      <td>Delhi</td>\n",
       "    </tr>\n",
       "    <tr>\n",
       "      <th>38</th>\n",
       "      <td>49</td>\n",
       "      <td>Female</td>\n",
       "      <td>101.0</td>\n",
       "      <td>Mild</td>\n",
       "      <td>Delhi</td>\n",
       "    </tr>\n",
       "    <tr>\n",
       "      <th>46</th>\n",
       "      <td>19</td>\n",
       "      <td>Female</td>\n",
       "      <td>101.0</td>\n",
       "      <td>Mild</td>\n",
       "      <td>Mumbai</td>\n",
       "    </tr>\n",
       "  </tbody>\n",
       "</table>\n",
       "</div>"
      ],
      "text/plain": [
       "    age  gender  fever   cough       city\n",
       "61   81  Female   98.0  Strong     Mumbai\n",
       "13   64    Male  102.0    Mild  Bangalore\n",
       "17   40  Female   98.0  Strong      Delhi\n",
       "38   49  Female  101.0    Mild      Delhi\n",
       "46   19  Female  101.0    Mild     Mumbai"
      ]
     },
     "execution_count": 55,
     "metadata": {},
     "output_type": "execute_result"
    }
   ],
   "source": [
    "xtr.head()"
   ]
  },
  {
   "cell_type": "code",
   "execution_count": 63,
   "id": "f9c543ac-71a1-4e92-b63c-e57fa1bfb258",
   "metadata": {},
   "outputs": [
    {
     "data": {
      "text/plain": [
       "(80, 1)"
      ]
     },
     "execution_count": 63,
     "metadata": {},
     "output_type": "execute_result"
    }
   ],
   "source": [
    "si = SimpleImputer()\n",
    "xtrfe=si.fit_transform(xtr[['fever']])\n",
    "xtefe=si.fit_transform(xte[['fever']])\n",
    "xtrfe.shape                              "
   ]
  },
  {
   "cell_type": "code",
   "execution_count": 51,
   "id": "3564e4e2-424f-4d51-8916-61a0721d1686",
   "metadata": {},
   "outputs": [
    {
     "data": {
      "text/plain": [
       "80    Yes\n",
       "36     No\n",
       "66     No\n",
       "79    Yes\n",
       "46     No\n",
       "Name: has_covid, dtype: object"
      ]
     },
     "execution_count": 51,
     "metadata": {},
     "output_type": "execute_result"
    }
   ],
   "source": [
    "xte.head()"
   ]
  },
  {
   "cell_type": "code",
   "execution_count": 89,
   "id": "0ad55708-0589-40bf-8d3c-123870a23450",
   "metadata": {},
   "outputs": [
    {
     "data": {
      "text/plain": [
       "array([[0., 0., 0., 1.],\n",
       "       [1., 0., 0., 0.],\n",
       "       [0., 1., 0., 0.],\n",
       "       [0., 1., 0., 0.],\n",
       "       [0., 0., 0., 1.],\n",
       "       [1., 0., 0., 0.],\n",
       "       [1., 1., 0., 0.],\n",
       "       [0., 0., 1., 0.],\n",
       "       [1., 0., 0., 0.],\n",
       "       [0., 0., 1., 0.],\n",
       "       [0., 0., 1., 0.],\n",
       "       [1., 0., 0., 0.],\n",
       "       [0., 0., 0., 0.],\n",
       "       [0., 0., 1., 0.],\n",
       "       [1., 1., 0., 0.],\n",
       "       [1., 0., 0., 0.],\n",
       "       [1., 0., 1., 0.],\n",
       "       [0., 0., 0., 0.],\n",
       "       [0., 0., 0., 0.],\n",
       "       [0., 1., 0., 0.],\n",
       "       [0., 0., 0., 0.],\n",
       "       [0., 0., 0., 1.],\n",
       "       [1., 1., 0., 0.],\n",
       "       [0., 1., 0., 0.],\n",
       "       [0., 1., 0., 0.],\n",
       "       [1., 1., 0., 0.],\n",
       "       [0., 0., 1., 0.],\n",
       "       [0., 0., 1., 0.],\n",
       "       [1., 0., 0., 1.],\n",
       "       [0., 1., 0., 0.],\n",
       "       [0., 0., 1., 0.],\n",
       "       [1., 0., 1., 0.],\n",
       "       [0., 0., 0., 1.],\n",
       "       [1., 0., 1., 0.],\n",
       "       [0., 0., 0., 1.],\n",
       "       [0., 0., 0., 0.],\n",
       "       [1., 1., 0., 0.],\n",
       "       [0., 0., 1., 0.],\n",
       "       [0., 1., 0., 0.],\n",
       "       [1., 0., 0., 0.],\n",
       "       [0., 0., 0., 0.],\n",
       "       [0., 0., 0., 0.],\n",
       "       [0., 1., 0., 0.],\n",
       "       [0., 0., 1., 0.],\n",
       "       [0., 0., 1., 0.],\n",
       "       [0., 1., 0., 0.],\n",
       "       [0., 1., 0., 0.],\n",
       "       [0., 0., 0., 0.],\n",
       "       [1., 0., 1., 0.],\n",
       "       [0., 0., 1., 0.],\n",
       "       [1., 1., 0., 0.],\n",
       "       [0., 0., 0., 0.],\n",
       "       [0., 1., 0., 0.],\n",
       "       [0., 0., 0., 1.],\n",
       "       [1., 0., 1., 0.],\n",
       "       [1., 0., 0., 0.],\n",
       "       [1., 0., 1., 0.],\n",
       "       [0., 0., 0., 0.],\n",
       "       [1., 0., 1., 0.],\n",
       "       [1., 0., 0., 0.],\n",
       "       [0., 0., 1., 0.],\n",
       "       [1., 0., 1., 0.],\n",
       "       [1., 0., 0., 1.],\n",
       "       [1., 0., 0., 0.],\n",
       "       [1., 0., 0., 0.],\n",
       "       [0., 0., 0., 1.],\n",
       "       [0., 1., 0., 0.],\n",
       "       [0., 0., 0., 0.],\n",
       "       [1., 1., 0., 0.],\n",
       "       [0., 0., 1., 0.],\n",
       "       [0., 0., 0., 1.],\n",
       "       [0., 0., 0., 1.],\n",
       "       [0., 0., 0., 0.],\n",
       "       [0., 0., 0., 0.],\n",
       "       [0., 0., 1., 0.],\n",
       "       [1., 0., 1., 0.],\n",
       "       [0., 0., 1., 0.],\n",
       "       [1., 0., 1., 0.],\n",
       "       [0., 0., 1., 0.],\n",
       "       [1., 0., 0., 0.]])"
      ]
     },
     "execution_count": 89,
     "metadata": {},
     "output_type": "execute_result"
    }
   ],
   "source": [
    "ohe = OneHotEncoder(drop='first',sparse_output=False)\n",
    "xtrgenci= ohe.fit_transform(xtr[['gender','city']])\n",
    "xtegenci= ohe.fit_transform(xte[['gender','city']])\n",
    "xtrgenci"
   ]
  },
  {
   "cell_type": "code",
   "execution_count": 91,
   "id": "70492360-65cc-417b-be83-a65037ddccfe",
   "metadata": {},
   "outputs": [
    {
     "data": {
      "text/plain": [
       "(80, 1)"
      ]
     },
     "execution_count": 91,
     "metadata": {},
     "output_type": "execute_result"
    }
   ],
   "source": [
    "xtrage =xtr.drop(columns=['gender','fever','cough','city']).values\n",
    "xteage =xte.drop(columns=['gender','fever','cough','city']).values\n",
    "xtrage.shape"
   ]
  },
  {
   "cell_type": "code",
   "execution_count": 93,
   "id": "df90d1f8-bf42-46ff-a88f-9744de366893",
   "metadata": {},
   "outputs": [
    {
     "data": {
      "text/plain": [
       "array([[1.],\n",
       "       [0.],\n",
       "       [1.],\n",
       "       [0.],\n",
       "       [0.],\n",
       "       [1.],\n",
       "       [0.],\n",
       "       [1.],\n",
       "       [0.],\n",
       "       [0.],\n",
       "       [0.],\n",
       "       [0.],\n",
       "       [0.],\n",
       "       [0.],\n",
       "       [0.],\n",
       "       [0.],\n",
       "       [0.],\n",
       "       [1.],\n",
       "       [0.],\n",
       "       [1.],\n",
       "       [1.],\n",
       "       [0.],\n",
       "       [0.],\n",
       "       [0.],\n",
       "       [1.],\n",
       "       [0.],\n",
       "       [1.],\n",
       "       [0.],\n",
       "       [0.],\n",
       "       [1.],\n",
       "       [0.],\n",
       "       [1.],\n",
       "       [0.],\n",
       "       [0.],\n",
       "       [1.],\n",
       "       [1.],\n",
       "       [0.],\n",
       "       [0.],\n",
       "       [0.],\n",
       "       [1.],\n",
       "       [1.],\n",
       "       [0.],\n",
       "       [0.],\n",
       "       [0.],\n",
       "       [0.],\n",
       "       [0.],\n",
       "       [0.],\n",
       "       [0.],\n",
       "       [0.],\n",
       "       [1.],\n",
       "       [1.],\n",
       "       [0.],\n",
       "       [1.],\n",
       "       [0.],\n",
       "       [1.],\n",
       "       [1.],\n",
       "       [1.],\n",
       "       [1.],\n",
       "       [1.],\n",
       "       [1.],\n",
       "       [1.],\n",
       "       [0.],\n",
       "       [0.],\n",
       "       [1.],\n",
       "       [0.],\n",
       "       [0.],\n",
       "       [1.],\n",
       "       [1.],\n",
       "       [0.],\n",
       "       [1.],\n",
       "       [1.],\n",
       "       [1.],\n",
       "       [0.],\n",
       "       [1.],\n",
       "       [1.],\n",
       "       [0.],\n",
       "       [0.],\n",
       "       [0.],\n",
       "       [0.],\n",
       "       [0.]])"
      ]
     },
     "execution_count": 93,
     "metadata": {},
     "output_type": "execute_result"
    }
   ],
   "source": [
    "oe = OrdinalEncoder(categories=[['Mild','Strong']])\n",
    "xtrcough = oe.fit_transform(xtr[['cough']])\n",
    "xtecough = oe.fit_transform(xte[['cough']])\n",
    "xtrcough"
   ]
  },
  {
   "cell_type": "code",
   "execution_count": 98,
   "id": "57650bc9-9355-48df-bd85-8618734fd0c8",
   "metadata": {},
   "outputs": [
    {
     "data": {
      "text/plain": [
       "array([[ 81.   ,  98.   ,   0.   ,   0.   ,   0.   ,   1.   ,   1.   ],\n",
       "       [ 64.   , 102.   ,   1.   ,   0.   ,   0.   ,   0.   ,   0.   ],\n",
       "       [ 40.   ,  98.   ,   0.   ,   1.   ,   0.   ,   0.   ,   1.   ],\n",
       "       [ 49.   , 101.   ,   0.   ,   1.   ,   0.   ,   0.   ,   0.   ],\n",
       "       [ 19.   , 101.   ,   0.   ,   0.   ,   0.   ,   1.   ,   0.   ],\n",
       "       [ 14.   , 101.   ,   1.   ,   0.   ,   0.   ,   0.   ,   1.   ],\n",
       "       [ 27.   , 100.   ,   1.   ,   1.   ,   0.   ,   0.   ,   0.   ],\n",
       "       [ 51.   , 101.   ,   0.   ,   0.   ,   1.   ,   0.   ,   1.   ],\n",
       "       [ 51.   , 104.   ,   1.   ,   0.   ,   0.   ,   0.   ,   0.   ],\n",
       "       [  5.   , 100.   ,   0.   ,   0.   ,   1.   ,   0.   ,   0.   ],\n",
       "       [ 26.   ,  98.   ,   0.   ,   0.   ,   1.   ,   0.   ,   0.   ],\n",
       "       [ 73.   ,  98.   ,   1.   ,   0.   ,   0.   ,   0.   ,   0.   ],\n",
       "       [ 69.   , 102.   ,   0.   ,   0.   ,   0.   ,   0.   ,   0.   ],\n",
       "       [ 48.   , 103.   ,   0.   ,   0.   ,   1.   ,   0.   ,   0.   ],\n",
       "       [ 19.   , 101.   ,   1.   ,   1.   ,   0.   ,   0.   ,   0.   ],\n",
       "       [ 72.   ,  99.   ,   1.   ,   0.   ,   0.   ,   0.   ,   0.   ],\n",
       "       [ 83.   , 103.   ,   1.   ,   0.   ,   1.   ,   0.   ,   0.   ],\n",
       "       [ 24.   , 102.   ,   0.   ,   0.   ,   0.   ,   0.   ,   1.   ],\n",
       "       [ 38.   , 101.   ,   0.   ,   0.   ,   0.   ,   0.   ,   0.   ],\n",
       "       [ 59.   ,  99.   ,   0.   ,   1.   ,   0.   ,   0.   ,   1.   ],\n",
       "       [ 49.   ,  99.   ,   0.   ,   0.   ,   0.   ,   0.   ,   1.   ],\n",
       "       [ 65.   , 101.   ,   0.   ,   0.   ,   0.   ,   1.   ,   0.   ],\n",
       "       [ 27.   , 100.   ,   1.   ,   1.   ,   0.   ,   0.   ,   0.   ],\n",
       "       [ 75.   , 100.875,   0.   ,   1.   ,   0.   ,   0.   ,   0.   ],\n",
       "       [ 75.   , 104.   ,   0.   ,   1.   ,   0.   ,   0.   ,   1.   ],\n",
       "       [ 83.   ,  98.   ,   1.   ,   1.   ,   0.   ,   0.   ,   0.   ],\n",
       "       [ 11.   , 100.   ,   0.   ,   0.   ,   1.   ,   0.   ,   1.   ],\n",
       "       [ 69.   , 103.   ,   0.   ,   0.   ,   1.   ,   0.   ,   0.   ],\n",
       "       [ 23.   , 100.875,   1.   ,   0.   ,   0.   ,   1.   ,   0.   ],\n",
       "       [ 34.   , 101.   ,   0.   ,   1.   ,   0.   ,   0.   ,   1.   ],\n",
       "       [ 31.   ,  98.   ,   0.   ,   0.   ,   1.   ,   0.   ,   0.   ],\n",
       "       [ 79.   , 100.875,   1.   ,   0.   ,   1.   ,   0.   ,   1.   ],\n",
       "       [ 81.   , 101.   ,   0.   ,   0.   ,   0.   ,   1.   ,   0.   ],\n",
       "       [ 82.   , 100.875,   1.   ,   0.   ,   1.   ,   0.   ,   0.   ],\n",
       "       [ 20.   , 100.875,   0.   ,   0.   ,   0.   ,   1.   ,   1.   ],\n",
       "       [ 82.   , 102.   ,   0.   ,   0.   ,   0.   ,   0.   ,   1.   ],\n",
       "       [ 15.   , 101.   ,   1.   ,   1.   ,   0.   ,   0.   ,   0.   ],\n",
       "       [  6.   , 104.   ,   0.   ,   0.   ,   1.   ,   0.   ,   0.   ],\n",
       "       [ 64.   , 101.   ,   0.   ,   1.   ,   0.   ,   0.   ,   0.   ],\n",
       "       [ 12.   ,  98.   ,   1.   ,   0.   ,   0.   ,   0.   ,   1.   ],\n",
       "       [ 19.   , 100.   ,   0.   ,   0.   ,   0.   ,   0.   ,   1.   ],\n",
       "       [ 16.   , 103.   ,   0.   ,   0.   ,   0.   ,   0.   ,   0.   ],\n",
       "       [ 49.   , 102.   ,   0.   ,   1.   ,   0.   ,   0.   ,   0.   ],\n",
       "       [ 83.   , 101.   ,   0.   ,   0.   ,   1.   ,   0.   ,   0.   ],\n",
       "       [ 50.   , 103.   ,   0.   ,   0.   ,   1.   ,   0.   ,   0.   ],\n",
       "       [ 73.   , 103.   ,   0.   ,   1.   ,   0.   ,   0.   ,   0.   ],\n",
       "       [ 80.   ,  98.   ,   0.   ,   1.   ,   0.   ,   0.   ,   0.   ],\n",
       "       [ 20.   , 101.   ,   0.   ,   0.   ,   0.   ,   0.   ,   0.   ],\n",
       "       [ 51.   , 104.   ,   1.   ,   0.   ,   1.   ,   0.   ,   0.   ],\n",
       "       [ 10.   ,  98.   ,   0.   ,   0.   ,   1.   ,   0.   ,   1.   ],\n",
       "       [ 20.   , 102.   ,   1.   ,   1.   ,   0.   ,   0.   ,   1.   ],\n",
       "       [ 22.   ,  99.   ,   0.   ,   0.   ,   0.   ,   0.   ,   0.   ],\n",
       "       [ 33.   , 102.   ,   0.   ,   1.   ,   0.   ,   0.   ,   1.   ],\n",
       "       [ 65.   ,  98.   ,   0.   ,   0.   ,   0.   ,   1.   ,   0.   ],\n",
       "       [ 34.   ,  98.   ,   1.   ,   0.   ,   1.   ,   0.   ,   1.   ],\n",
       "       [ 47.   , 101.   ,   1.   ,   0.   ,   0.   ,   0.   ,   1.   ],\n",
       "       [ 71.   , 100.875,   1.   ,   0.   ,   1.   ,   0.   ,   1.   ],\n",
       "       [ 47.   , 100.   ,   0.   ,   0.   ,   0.   ,   0.   ,   1.   ],\n",
       "       [ 70.   , 103.   ,   1.   ,   0.   ,   1.   ,   0.   ,   1.   ],\n",
       "       [ 46.   , 103.   ,   1.   ,   0.   ,   0.   ,   0.   ,   1.   ],\n",
       "       [ 25.   ,  99.   ,   0.   ,   0.   ,   1.   ,   0.   ,   1.   ],\n",
       "       [ 60.   , 103.   ,   1.   ,   0.   ,   1.   ,   0.   ,   0.   ],\n",
       "       [ 44.   , 104.   ,   1.   ,   0.   ,   0.   ,   1.   ,   0.   ],\n",
       "       [ 66.   ,  99.   ,   1.   ,   0.   ,   0.   ,   0.   ,   1.   ],\n",
       "       [ 25.   , 104.   ,   1.   ,   0.   ,   0.   ,   0.   ,   0.   ],\n",
       "       [ 60.   ,  99.   ,   0.   ,   0.   ,   0.   ,   1.   ,   0.   ],\n",
       "       [ 34.   , 104.   ,   0.   ,   1.   ,   0.   ,   0.   ,   1.   ],\n",
       "       [ 56.   , 104.   ,   0.   ,   0.   ,   0.   ,   0.   ,   1.   ],\n",
       "       [ 65.   ,  99.   ,   1.   ,   1.   ,   0.   ,   0.   ,   0.   ],\n",
       "       [ 71.   ,  98.   ,   0.   ,   0.   ,   1.   ,   0.   ,   1.   ],\n",
       "       [ 34.   , 100.875,   0.   ,   0.   ,   0.   ,   1.   ,   1.   ],\n",
       "       [  5.   ,  98.   ,   0.   ,   0.   ,   0.   ,   1.   ,   1.   ],\n",
       "       [ 64.   ,  98.   ,   0.   ,   0.   ,   0.   ,   0.   ,   0.   ],\n",
       "       [ 42.   , 100.875,   0.   ,   0.   ,   0.   ,   0.   ,   1.   ],\n",
       "       [ 54.   , 104.   ,   0.   ,   0.   ,   1.   ,   0.   ,   1.   ],\n",
       "       [ 55.   , 100.   ,   1.   ,   0.   ,   1.   ,   0.   ,   0.   ],\n",
       "       [  8.   , 101.   ,   0.   ,   0.   ,   1.   ,   0.   ,   0.   ],\n",
       "       [ 16.   , 104.   ,   1.   ,   0.   ,   1.   ,   0.   ,   0.   ],\n",
       "       [ 17.   , 104.   ,   0.   ,   0.   ,   1.   ,   0.   ,   0.   ],\n",
       "       [ 65.   ,  99.   ,   1.   ,   0.   ,   0.   ,   0.   ,   0.   ]])"
      ]
     },
     "execution_count": 98,
     "metadata": {},
     "output_type": "execute_result"
    }
   ],
   "source": [
    "xtrtransformed = np.concatenate((xtrage,xtrfe,xtrgenci,xtrcough),axis=1)\n",
    "xtesttransformed = np.concatenate((xteage,xtefe,xtegenci,xtecough),axis=1)\n",
    "xtrtransformed"
   ]
  },
  {
   "cell_type": "code",
   "execution_count": null,
   "id": "f6febef0-8a37-4859-a19f-162de2cfa31f",
   "metadata": {},
   "outputs": [],
   "source": [
    "#or"
   ]
  },
  {
   "cell_type": "code",
   "execution_count": 135,
   "id": "39b62e90-fe4a-4aa3-8120-2177b334f734",
   "metadata": {},
   "outputs": [],
   "source": [
    "from sklearn.compose import ColumnTransformer"
   ]
  },
  {
   "cell_type": "code",
   "execution_count": 151,
   "id": "3c024ec6-5c7c-4aee-a88c-e766b7331046",
   "metadata": {},
   "outputs": [],
   "source": [
    "transformer = ColumnTransformer(transformers=[\n",
    "    ('tnf1',SimpleImputer(),['fever']),\n",
    "    ('tnf2',OrdinalEncoder(categories=[['Mild','Strong']]),['cough']),\n",
    "    ('tnf3',OneHotEncoder(sparse_output=False,drop='first'),['gender','city'])\n",
    "],remainder='passthrough')"
   ]
  },
  {
   "cell_type": "code",
   "execution_count": 153,
   "id": "34e143ef-371e-4cf2-9198-3ea1a569aabb",
   "metadata": {},
   "outputs": [
    {
     "data": {
      "text/plain": [
       "(80, 7)"
      ]
     },
     "execution_count": 153,
     "metadata": {},
     "output_type": "execute_result"
    }
   ],
   "source": [
    "transformer.fit_transform(xtr).shape"
   ]
  },
  {
   "cell_type": "code",
   "execution_count": null,
   "id": "c201e9a0-e789-4454-9a9c-83d36f3f9926",
   "metadata": {},
   "outputs": [],
   "source": []
  },
  {
   "cell_type": "code",
   "execution_count": null,
   "id": "f193f7a5-b84a-48c9-9cdc-6b0b07799e95",
   "metadata": {},
   "outputs": [],
   "source": []
  }
 ],
 "metadata": {
  "kernelspec": {
   "display_name": "Python 3 (ipykernel)",
   "language": "python",
   "name": "python3"
  },
  "language_info": {
   "codemirror_mode": {
    "name": "ipython",
    "version": 3
   },
   "file_extension": ".py",
   "mimetype": "text/x-python",
   "name": "python",
   "nbconvert_exporter": "python",
   "pygments_lexer": "ipython3",
   "version": "3.12.4"
  }
 },
 "nbformat": 4,
 "nbformat_minor": 5
}
